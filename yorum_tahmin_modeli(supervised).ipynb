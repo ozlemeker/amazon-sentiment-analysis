{
 "cells": [
  {
   "cell_type": "markdown",
   "id": "6d819767",
   "metadata": {},
   "source": [
    "# Amazon Ürün Yorumları ile Duygu Analizi (Gözetimli Öğrenme)\n",
    "\n",
    "Bu projede, Amazon'dan alınan kullanıcı yorumları kullanılarak bir yorumun **olumlu mu yoksa olumsuz mu** olduğunu tahmin eden bir makine öğrenmesi modeli geliştirilmektedir.\n"
   ]
  },
  {
   "cell_type": "code",
   "execution_count": 3,
   "id": "4d375d50",
   "metadata": {},
   "outputs": [],
   "source": [
    "import pandas as pd\n",
    "import re\n",
    "from sklearn.feature_extraction.text import TfidfVectorizer\n",
    "from sklearn.model_selection import train_test_split\n",
    "from sklearn.linear_model import LogisticRegression\n",
    "from sklearn.metrics import classification_report, confusion_matrix"
   ]
  },
  {
   "cell_type": "markdown",
   "id": "371f24a2",
   "metadata": {},
   "source": [
    "## Veri Setinin Yüklenmesi\n",
    "\n",
    "Veri seti, ürün yorumlarını ve puanlarını içermektedir. `Reviews.csv` dosyasını Pandas ile yüklüyoruz.\n"
   ]
  },
  {
   "cell_type": "code",
   "execution_count": 4,
   "id": "cfb37083",
   "metadata": {},
   "outputs": [],
   "source": [
    "df =pd.read_csv(\"Reviews.csv\")"
   ]
  },
  {
   "cell_type": "markdown",
   "id": "7b2b6a97",
   "metadata": {},
   "source": [
    "## Veri Seti Özeti\n",
    "\n",
    "Bu adımda veri setinin yapısı incelenmiştir. `df.info()` fonksiyonu ile:\n",
    "\n",
    "- Kaç satır ve sütun olduğu\n",
    "- Her sütunun veri tipi (object, int, float vb.)\n",
    "- Eksik veri (null) olup olmadığı\n",
    "\n",
    "görülmüştür. Bu temel inceleme, veri temizliği adımlarını planlamadan önce atılması gereken ilk adımdır.\n"
   ]
  },
  {
   "cell_type": "code",
   "execution_count": 5,
   "id": "baf30ba5",
   "metadata": {},
   "outputs": [
    {
     "name": "stdout",
     "output_type": "stream",
     "text": [
      "<class 'pandas.core.frame.DataFrame'>\n",
      "RangeIndex: 568454 entries, 0 to 568453\n",
      "Data columns (total 10 columns):\n",
      " #   Column                  Non-Null Count   Dtype \n",
      "---  ------                  --------------   ----- \n",
      " 0   Id                      568454 non-null  int64 \n",
      " 1   ProductId               568454 non-null  object\n",
      " 2   UserId                  568454 non-null  object\n",
      " 3   ProfileName             568428 non-null  object\n",
      " 4   HelpfulnessNumerator    568454 non-null  int64 \n",
      " 5   HelpfulnessDenominator  568454 non-null  int64 \n",
      " 6   Score                   568454 non-null  int64 \n",
      " 7   Time                    568454 non-null  int64 \n",
      " 8   Summary                 568427 non-null  object\n",
      " 9   Text                    568454 non-null  object\n",
      "dtypes: int64(5), object(5)\n",
      "memory usage: 43.4+ MB\n"
     ]
    }
   ],
   "source": [
    "df.info()"
   ]
  },
  {
   "cell_type": "markdown",
   "id": "76943bc9",
   "metadata": {},
   "source": [
    "## Etiketleme (Labeling)\n",
    "\n",
    "Yorumların puanlarına göre duygu etiketi oluşturuyoruz:\n",
    "- 1–2 puan → Olumsuz (0)\n",
    "- 4–5 puan → Olumlu (1)\n",
    "- 3 puan → Nötr, bu veriler analiz dışı bırakılır."
   ]
  },
  {
   "cell_type": "code",
   "execution_count": 6,
   "id": "c0690810",
   "metadata": {},
   "outputs": [
    {
     "data": {
      "text/plain": [
       "Sentiment\n",
       "1    443777\n",
       "0     82037\n",
       "Name: count, dtype: int64"
      ]
     },
     "execution_count": 6,
     "metadata": {},
     "output_type": "execute_result"
    }
   ],
   "source": [
    "df=df[df['Score']!=3] #3 puanlı verileri karışıklık yaratmaması için sildim\n",
    "df['Sentiment'] = df['Score'].apply(lambda x: 1 if x > 3 else 0) #olumlu=1, olumsuz=0\n",
    "df['Sentiment'].value_counts() #kaç tane olumsuz var?"
   ]
  },
  {
   "cell_type": "markdown",
   "id": "88af2a34",
   "metadata": {},
   "source": [
    "## Gerekli Sütunların Seçilmesi\n",
    "\n",
    "Veri seti birçok farklı sütun içermektedir (örneğin: ürün adı, kullanıcı adı, tarih vb.). Ancak bu proje kapsamında yalnızca yorum metni (`Text`) ve etiket (`Sentiment`) kullanılacaktır.\n",
    "\n",
    "Bu nedenle yalnızca bu iki sütun seçilerek veri seti sadeleştirilmiştir:\n",
    "\n",
    "- `Text`: Kullanıcının yazdığı ürün yorumu\n",
    "- `Sentiment`: Bu yorumun olumlu (1) ya da olumsuz (0) olduğu etiketi\n"
   ]
  },
  {
   "cell_type": "code",
   "execution_count": 7,
   "id": "2b4cb8d8",
   "metadata": {},
   "outputs": [
    {
     "data": {
      "text/html": [
       "<div>\n",
       "<style scoped>\n",
       "    .dataframe tbody tr th:only-of-type {\n",
       "        vertical-align: middle;\n",
       "    }\n",
       "\n",
       "    .dataframe tbody tr th {\n",
       "        vertical-align: top;\n",
       "    }\n",
       "\n",
       "    .dataframe thead th {\n",
       "        text-align: right;\n",
       "    }\n",
       "</style>\n",
       "<table border=\"1\" class=\"dataframe\">\n",
       "  <thead>\n",
       "    <tr style=\"text-align: right;\">\n",
       "      <th></th>\n",
       "      <th>Text</th>\n",
       "      <th>Sentiment</th>\n",
       "    </tr>\n",
       "  </thead>\n",
       "  <tbody>\n",
       "    <tr>\n",
       "      <th>0</th>\n",
       "      <td>I have bought several of the Vitality canned d...</td>\n",
       "      <td>1</td>\n",
       "    </tr>\n",
       "    <tr>\n",
       "      <th>1</th>\n",
       "      <td>Product arrived labeled as Jumbo Salted Peanut...</td>\n",
       "      <td>0</td>\n",
       "    </tr>\n",
       "    <tr>\n",
       "      <th>2</th>\n",
       "      <td>This is a confection that has been around a fe...</td>\n",
       "      <td>1</td>\n",
       "    </tr>\n",
       "    <tr>\n",
       "      <th>3</th>\n",
       "      <td>If you are looking for the secret ingredient i...</td>\n",
       "      <td>0</td>\n",
       "    </tr>\n",
       "    <tr>\n",
       "      <th>4</th>\n",
       "      <td>Great taffy at a great price.  There was a wid...</td>\n",
       "      <td>1</td>\n",
       "    </tr>\n",
       "  </tbody>\n",
       "</table>\n",
       "</div>"
      ],
      "text/plain": [
       "                                                Text  Sentiment\n",
       "0  I have bought several of the Vitality canned d...          1\n",
       "1  Product arrived labeled as Jumbo Salted Peanut...          0\n",
       "2  This is a confection that has been around a fe...          1\n",
       "3  If you are looking for the secret ingredient i...          0\n",
       "4  Great taffy at a great price.  There was a wid...          1"
      ]
     },
     "execution_count": 7,
     "metadata": {},
     "output_type": "execute_result"
    }
   ],
   "source": [
    "df = df[['Text', 'Sentiment']]\n",
    "df.head()"
   ]
  },
  {
   "cell_type": "markdown",
   "id": "d2658cf7",
   "metadata": {},
   "source": [
    "## Metin Temizleme\n",
    "\n",
    "Yorumların daha sağlıklı analiz edilebilmesi için:\n",
    "- Küçük harfe çevirme\n",
    "- Noktalama işaretlerinin kaldırılması\n",
    "- Fazla boşlukların temizlenmesi  \n",
    "gibi işlemler uygulanmaktadır."
   ]
  },
  {
   "cell_type": "code",
   "execution_count": 8,
   "id": "fc0efe5f",
   "metadata": {},
   "outputs": [
    {
     "data": {
      "text/html": [
       "<div>\n",
       "<style scoped>\n",
       "    .dataframe tbody tr th:only-of-type {\n",
       "        vertical-align: middle;\n",
       "    }\n",
       "\n",
       "    .dataframe tbody tr th {\n",
       "        vertical-align: top;\n",
       "    }\n",
       "\n",
       "    .dataframe thead th {\n",
       "        text-align: right;\n",
       "    }\n",
       "</style>\n",
       "<table border=\"1\" class=\"dataframe\">\n",
       "  <thead>\n",
       "    <tr style=\"text-align: right;\">\n",
       "      <th></th>\n",
       "      <th>Clean_Text</th>\n",
       "      <th>Sentiment</th>\n",
       "    </tr>\n",
       "  </thead>\n",
       "  <tbody>\n",
       "    <tr>\n",
       "      <th>0</th>\n",
       "      <td>i have bought several of the vitality canned d...</td>\n",
       "      <td>1</td>\n",
       "    </tr>\n",
       "    <tr>\n",
       "      <th>1</th>\n",
       "      <td>product arrived labeled as jumbo salted peanut...</td>\n",
       "      <td>0</td>\n",
       "    </tr>\n",
       "    <tr>\n",
       "      <th>2</th>\n",
       "      <td>this is a confection that has been around a fe...</td>\n",
       "      <td>1</td>\n",
       "    </tr>\n",
       "    <tr>\n",
       "      <th>3</th>\n",
       "      <td>if you are looking for the secret ingredient i...</td>\n",
       "      <td>0</td>\n",
       "    </tr>\n",
       "    <tr>\n",
       "      <th>4</th>\n",
       "      <td>great taffy at a great price there was a wide ...</td>\n",
       "      <td>1</td>\n",
       "    </tr>\n",
       "  </tbody>\n",
       "</table>\n",
       "</div>"
      ],
      "text/plain": [
       "                                          Clean_Text  Sentiment\n",
       "0  i have bought several of the vitality canned d...          1\n",
       "1  product arrived labeled as jumbo salted peanut...          0\n",
       "2  this is a confection that has been around a fe...          1\n",
       "3  if you are looking for the secret ingredient i...          0\n",
       "4  great taffy at a great price there was a wide ...          1"
      ]
     },
     "execution_count": 8,
     "metadata": {},
     "output_type": "execute_result"
    }
   ],
   "source": [
    "def temizle(text):\n",
    "    text = text.lower()\n",
    "    text = re.sub(r'[^\\w\\s]', '', text)\n",
    "    text = re.sub(r'\\s+', ' ', text).strip()\n",
    "    return text\n",
    "\n",
    "df['Clean_Text'] = df['Text'].apply(temizle)\n",
    "df[['Clean_Text', 'Sentiment']].head()"
   ]
  },
  {
   "cell_type": "markdown",
   "id": "47cb8e5f",
   "metadata": {},
   "source": [
    "## Özellik Çıkarımı (TF-IDF)\n",
    "\n",
    "TF-IDF (Term Frequency - Inverse Document Frequency) yöntemiyle, her yorumdaki kelimelerden sayısal vektörler oluşturulmaktadır. Bu vektörler, yorumların içeriksel benzerliğini sayısal olarak karşılaştırabilmek için gereklidir.\n"
   ]
  },
  {
   "cell_type": "code",
   "execution_count": 9,
   "id": "a6e0dba5",
   "metadata": {},
   "outputs": [],
   "source": [
    "tfidf = TfidfVectorizer(max_features=5000)\n",
    "x = tfidf.fit_transform(df['Clean_Text']) #yorumların sayısal hali\n",
    "y = df['Sentiment'].values #etiket"
   ]
  },
  {
   "cell_type": "markdown",
   "id": "e5a52cff",
   "metadata": {},
   "source": [
    "## Modelin Eğitilmesi (Logistic Regression)\n",
    "\n",
    "Veri eğitim ve test olarak ikiye ayrılır. Ardından Logistic Regression modeli eğitilerek, yorumların etiketleri tahmin edilir.\n"
   ]
  },
  {
   "cell_type": "code",
   "execution_count": 10,
   "id": "ac700760",
   "metadata": {},
   "outputs": [],
   "source": [
    "#veriyi bölme\n",
    "#%80 eğitim, %20 test\n",
    "x_train, x_test, y_train, y_test = train_test_split(x, y, test_size=0.2, random_state=42)"
   ]
  },
  {
   "cell_type": "code",
   "execution_count": 11,
   "id": "c62d63a6",
   "metadata": {},
   "outputs": [
    {
     "data": {
      "text/html": [
       "<style>#sk-container-id-1 {color: black;}#sk-container-id-1 pre{padding: 0;}#sk-container-id-1 div.sk-toggleable {background-color: white;}#sk-container-id-1 label.sk-toggleable__label {cursor: pointer;display: block;width: 100%;margin-bottom: 0;padding: 0.3em;box-sizing: border-box;text-align: center;}#sk-container-id-1 label.sk-toggleable__label-arrow:before {content: \"▸\";float: left;margin-right: 0.25em;color: #696969;}#sk-container-id-1 label.sk-toggleable__label-arrow:hover:before {color: black;}#sk-container-id-1 div.sk-estimator:hover label.sk-toggleable__label-arrow:before {color: black;}#sk-container-id-1 div.sk-toggleable__content {max-height: 0;max-width: 0;overflow: hidden;text-align: left;background-color: #f0f8ff;}#sk-container-id-1 div.sk-toggleable__content pre {margin: 0.2em;color: black;border-radius: 0.25em;background-color: #f0f8ff;}#sk-container-id-1 input.sk-toggleable__control:checked~div.sk-toggleable__content {max-height: 200px;max-width: 100%;overflow: auto;}#sk-container-id-1 input.sk-toggleable__control:checked~label.sk-toggleable__label-arrow:before {content: \"▾\";}#sk-container-id-1 div.sk-estimator input.sk-toggleable__control:checked~label.sk-toggleable__label {background-color: #d4ebff;}#sk-container-id-1 div.sk-label input.sk-toggleable__control:checked~label.sk-toggleable__label {background-color: #d4ebff;}#sk-container-id-1 input.sk-hidden--visually {border: 0;clip: rect(1px 1px 1px 1px);clip: rect(1px, 1px, 1px, 1px);height: 1px;margin: -1px;overflow: hidden;padding: 0;position: absolute;width: 1px;}#sk-container-id-1 div.sk-estimator {font-family: monospace;background-color: #f0f8ff;border: 1px dotted black;border-radius: 0.25em;box-sizing: border-box;margin-bottom: 0.5em;}#sk-container-id-1 div.sk-estimator:hover {background-color: #d4ebff;}#sk-container-id-1 div.sk-parallel-item::after {content: \"\";width: 100%;border-bottom: 1px solid gray;flex-grow: 1;}#sk-container-id-1 div.sk-label:hover label.sk-toggleable__label {background-color: #d4ebff;}#sk-container-id-1 div.sk-serial::before {content: \"\";position: absolute;border-left: 1px solid gray;box-sizing: border-box;top: 0;bottom: 0;left: 50%;z-index: 0;}#sk-container-id-1 div.sk-serial {display: flex;flex-direction: column;align-items: center;background-color: white;padding-right: 0.2em;padding-left: 0.2em;position: relative;}#sk-container-id-1 div.sk-item {position: relative;z-index: 1;}#sk-container-id-1 div.sk-parallel {display: flex;align-items: stretch;justify-content: center;background-color: white;position: relative;}#sk-container-id-1 div.sk-item::before, #sk-container-id-1 div.sk-parallel-item::before {content: \"\";position: absolute;border-left: 1px solid gray;box-sizing: border-box;top: 0;bottom: 0;left: 50%;z-index: -1;}#sk-container-id-1 div.sk-parallel-item {display: flex;flex-direction: column;z-index: 1;position: relative;background-color: white;}#sk-container-id-1 div.sk-parallel-item:first-child::after {align-self: flex-end;width: 50%;}#sk-container-id-1 div.sk-parallel-item:last-child::after {align-self: flex-start;width: 50%;}#sk-container-id-1 div.sk-parallel-item:only-child::after {width: 0;}#sk-container-id-1 div.sk-dashed-wrapped {border: 1px dashed gray;margin: 0 0.4em 0.5em 0.4em;box-sizing: border-box;padding-bottom: 0.4em;background-color: white;}#sk-container-id-1 div.sk-label label {font-family: monospace;font-weight: bold;display: inline-block;line-height: 1.2em;}#sk-container-id-1 div.sk-label-container {text-align: center;}#sk-container-id-1 div.sk-container {/* jupyter's `normalize.less` sets `[hidden] { display: none; }` but bootstrap.min.css set `[hidden] { display: none !important; }` so we also need the `!important` here to be able to override the default hidden behavior on the sphinx rendered scikit-learn.org. See: https://github.com/scikit-learn/scikit-learn/issues/21755 */display: inline-block !important;position: relative;}#sk-container-id-1 div.sk-text-repr-fallback {display: none;}</style><div id=\"sk-container-id-1\" class=\"sk-top-container\"><div class=\"sk-text-repr-fallback\"><pre>LogisticRegression(max_iter=1000)</pre><b>In a Jupyter environment, please rerun this cell to show the HTML representation or trust the notebook. <br />On GitHub, the HTML representation is unable to render, please try loading this page with nbviewer.org.</b></div><div class=\"sk-container\" hidden><div class=\"sk-item\"><div class=\"sk-estimator sk-toggleable\"><input class=\"sk-toggleable__control sk-hidden--visually\" id=\"sk-estimator-id-1\" type=\"checkbox\" checked><label for=\"sk-estimator-id-1\" class=\"sk-toggleable__label sk-toggleable__label-arrow\">LogisticRegression</label><div class=\"sk-toggleable__content\"><pre>LogisticRegression(max_iter=1000)</pre></div></div></div></div></div>"
      ],
      "text/plain": [
       "LogisticRegression(max_iter=1000)"
      ]
     },
     "execution_count": 11,
     "metadata": {},
     "output_type": "execute_result"
    }
   ],
   "source": [
    "model = LogisticRegression(max_iter=1000)\n",
    "model.fit(x_train, y_train)"
   ]
  },
  {
   "cell_type": "markdown",
   "id": "397811f6",
   "metadata": {},
   "source": [
    "## Modelin Değerlendirilmesi\n",
    "\n",
    "Modelin doğruluğu, **precision, recall** ve **F1-score** gibi metriklerle ölçülür.\n"
   ]
  },
  {
   "cell_type": "code",
   "execution_count": 12,
   "id": "1f044124",
   "metadata": {},
   "outputs": [
    {
     "name": "stdout",
     "output_type": "stream",
     "text": [
      "[[11542  4837]\n",
      " [ 2058 86726]]\n",
      "              precision    recall  f1-score   support\n",
      "\n",
      "           0       0.85      0.70      0.77     16379\n",
      "           1       0.95      0.98      0.96     88784\n",
      "\n",
      "    accuracy                           0.93    105163\n",
      "   macro avg       0.90      0.84      0.87    105163\n",
      "weighted avg       0.93      0.93      0.93    105163\n",
      "\n"
     ]
    }
   ],
   "source": [
    "y_pred = model.predict(x_test)\n",
    "print(confusion_matrix(y_test, y_pred))\n",
    "print(classification_report(y_test, y_pred))"
   ]
  },
  {
   "cell_type": "markdown",
   "id": "02e5c75f",
   "metadata": {},
   "source": [
    "Bu model genel olarak yüksek doğruluk verdi:  \n",
    "- **Accuracy %93** ile oldukça güçlü bir performans sağlandı.\n",
    "- Olumlu yorumlar (sınıf 1) model tarafından çok iyi tanındı (**Recall %98**).\n",
    "- Ancak olumsuz yorumlar (sınıf 0) için model biraz zayıf kaldı (**Recall %70**).  \n",
    "  Yani model, “negatif yorumu olumlu sanma” eğiliminde olabilir.\n",
    "\n",
    "Bu sonuç, veri dengesizliğinin etkisini açıkça gösteriyor. Yine de genel başarı oldukça yüksek.\n"
   ]
  },
  {
   "cell_type": "markdown",
   "id": "74281caa",
   "metadata": {},
   "source": [
    "## Sonuç ve Yorum\n",
    "\n",
    "Bu analizde, Amazon yorumları üzerinde gözetimsiz bir yöntem olan KMeans kullanılarak kümelendirme yapılmıştır. Bu yaklaşım özellikle etiketlenmemiş büyük veri setlerinde faydalıdır.  \n",
    "Gelecekte, bu kümeler üzerinden manuel etiketleme yapılabilir veya öneri sistemleri için kullanılabilir.\n"
   ]
  },
  {
   "cell_type": "markdown",
   "id": "33f701b8",
   "metadata": {},
   "source": [
    "## ✨BONUS✨\n",
    "## Dengesiz Veri için Alternatif Model\n",
    "\n",
    "Modelimizi eğitirken dikkat çeken bir nokta vardı:  \n",
    "Yorumların büyük çoğunluğu **olumlu**. Bu da, modelin olumlu sınıfı çok iyi öğrenip, **olumsuz yorumları göz ardı etmesine** neden olabilir.\n",
    "\n",
    "Bu durumu iyileştirmek için, `LogisticRegression` modeline `class_weight='balanced'` parametresini verdik.  \n",
    "Bu ayar sayesinde, model azınlık sınıf olan **negatif yorumlara daha fazla önem** veriyor.\n",
    "\n",
    "Amaç şu:  \n",
    "- \"Olumlu-olumsuz oranı dengesizse, her iki sınıfı da eşit öğrenmeye çalış.\"\n",
    "\n",
    "Bu yöntemle modelin genel doğruluğu biraz düşebilir ama **adaletli tahmin** artar — özellikle olumsuz yorumlar daha doğru tanınabilir."
   ]
  },
  {
   "cell_type": "code",
   "execution_count": 13,
   "id": "24a9d5fd",
   "metadata": {},
   "outputs": [
    {
     "name": "stdout",
     "output_type": "stream",
     "text": [
      "[[14855  1524]\n",
      " [ 8502 80282]]\n",
      "              precision    recall  f1-score   support\n",
      "\n",
      "           0       0.64      0.91      0.75     16379\n",
      "           1       0.98      0.90      0.94     88784\n",
      "\n",
      "    accuracy                           0.90    105163\n",
      "   macro avg       0.81      0.91      0.84    105163\n",
      "weighted avg       0.93      0.90      0.91    105163\n",
      "\n"
     ]
    }
   ],
   "source": [
    "from sklearn.linear_model import LogisticRegression\n",
    "from sklearn.metrics import classification_report, confusion_matrix\n",
    "\n",
    "'''Alternatif Model:\n",
    "   Azınlık sınıfa verilen önemi artırmak için'''\n",
    "model_balanced = LogisticRegression(max_iter=1000, class_weight='balanced', random_state=42)\n",
    "\n",
    "# train\n",
    "model_balanced.fit(x_train, y_train)\n",
    "\n",
    "# tahmin\n",
    "y_pred_balanced = model_balanced.predict(x_test)\n",
    "\n",
    "# Değerlendirme\n",
    "print(confusion_matrix(y_test, y_pred_balanced))\n",
    "print(classification_report(y_test, y_pred_balanced))\n"
   ]
  },
  {
   "cell_type": "markdown",
   "id": "22d87348",
   "metadata": {},
   "source": [
    "Alternatif modelden gelen sonuçlar oldukça dikkat çekici:\n",
    "\n",
    "- **Olumsuz yorumlar** (sınıf 0) artık çok daha iyi tanınıyor:  \n",
    "  Recall %70’ten **%91’e** çıktı 🎯  \n",
    "- Precision (isabet oranı) biraz azalsa da, bu değişim daha adaletli bir tahmin modeli elde etmemizi sağladı.\n",
    "- **Genel doğruluk** %93'ten %90'a düştü ama bu kontrollü ve kabul edilebilir bir değişim.\n",
    "\n",
    "Bu model, özellikle olumsuz yorumlara duyarlı olmak isteyen sistemler (örneğin: `müşteri şikayet analizi`) için daha kullanışlı olabilir.\n"
   ]
  },
  {
   "cell_type": "code",
   "execution_count": null,
   "id": "709664a2",
   "metadata": {},
   "outputs": [],
   "source": []
  }
 ],
 "metadata": {
  "kernelspec": {
   "display_name": "Python 3 (ipykernel)",
   "language": "python",
   "name": "python3"
  },
  "language_info": {
   "codemirror_mode": {
    "name": "ipython",
    "version": 3
   },
   "file_extension": ".py",
   "mimetype": "text/x-python",
   "name": "python",
   "nbconvert_exporter": "python",
   "pygments_lexer": "ipython3",
   "version": "3.11.5"
  }
 },
 "nbformat": 4,
 "nbformat_minor": 5
}
